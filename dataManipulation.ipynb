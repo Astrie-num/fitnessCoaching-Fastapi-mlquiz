{
 "cells": [
  {
   "cell_type": "code",
   "id": "initial_id",
   "metadata": {
    "collapsed": true,
    "ExecuteTime": {
     "end_time": "2024-12-07T16:23:19.481589Z",
     "start_time": "2024-12-07T16:23:10.171878Z"
    }
   },
   "source": [
    "import requests\n",
    "import pandas as pd\n",
    "\n",
    "coach_url = \"http://127.0.0.1:8000/get_all_coaches/\"\n",
    "response = requests.get(coach_url)\n",
    "coach_data = response.json()\n",
    "coach_df = pd.DataFrame(coach_data)\n",
    "\n",
    "\n",
    "schedule_url = \"http://127.0.0.1:8000/get_schedules/\"\n",
    "response = requests.get(schedule_url)\n",
    "schedule_data = response.json()\n",
    "schedule_df = pd.DataFrame(schedule_data)\n",
    "\n",
    "print(\"Coach Data\")\n",
    "print(coach_df.head())\n",
    "print(\"\\nSchedule Data\")\n",
    "print(schedule_df.tail())"
   ],
   "outputs": [
    {
     "name": "stdout",
     "output_type": "stream",
     "text": [
      "Coach Data\n",
      "  username hashed_password  id   role   type               email    location\n",
      "0   user_1      password_1   1  admin  coach  user_1@example.com      Kirehe\n",
      "1   user_2      password_2   2  admin  coach  user_2@example.com  Nyarugenge\n",
      "2   user_3      password_3   3  admin  coach  user_3@example.com    Gisagara\n",
      "3   user_4      password_4   4  admin  coach  user_4@example.com      Burera\n",
      "4   user_5      password_5   5  admin  coach  user_5@example.com       Ngoma\n",
      "\n",
      "Schedule Data\n",
      "            id                                  exercises_details  coach_id  \\\n",
      "499995  499996  Bodyweight exercise to strengthen the chest, s...       217   \n",
      "499996  499997  Bodyweight exercise to strengthen the chest, s...       105   \n",
      "499997  499998  Bodyweight exercise to strengthen the chest, s...       219   \n",
      "499998  499999  Mind and body practice to improve flexibility ...       130   \n",
      "499999  500000  Bodyweight exercise to strengthen the chest, s...       258   \n",
      "\n",
      "       exercises  cost_per_hour  \n",
      "499995  Push-Ups            0.0  \n",
      "499996  Push-Ups            0.0  \n",
      "499997  Push-Ups            0.0  \n",
      "499998      Yoga         2000.0  \n",
      "499999  Push-Ups            0.0  \n"
     ]
    }
   ],
   "execution_count": 23
  },
  {
   "metadata": {
    "ExecuteTime": {
     "end_time": "2024-12-07T16:23:23.987691Z",
     "start_time": "2024-12-07T16:23:23.841492Z"
    }
   },
   "cell_type": "code",
   "source": [
    "\n",
    "merged_df = pd.merge(schedule_df, coach_df, left_on=\"coach_id\", right_on=\"id\", how=\"inner\")\n",
    "\n",
    "merged_df = merged_df.drop(columns=[\"hashed_password\", \"exercises_details\"])\n",
    "\n",
    "print(\"Merged Data\")\n",
    "print(merged_df.head())"
   ],
   "id": "ad96bc711e8f9abc",
   "outputs": [
    {
     "name": "stdout",
     "output_type": "stream",
     "text": [
      "Merged Data\n",
      "   id_x  coach_id exercises  cost_per_hour  username  id_y   role   type  \\\n",
      "0     1       378      Yoga         2000.0  user_378   378  admin  coach   \n",
      "1     2       386  Push-Ups            0.0  user_386   386  admin  coach   \n",
      "2     3        30    Squats            0.0   user_30    30  admin  coach   \n",
      "3     4       129    Squats            0.0  user_129   129  admin  coach   \n",
      "4     5       227  Push-Ups            0.0  user_227   227  admin  coach   \n",
      "\n",
      "                  email location  \n",
      "0  user_378@example.com   Nyanza  \n",
      "1  user_386@example.com  Rulindo  \n",
      "2   user_30@example.com  Kamonyi  \n",
      "3  user_129@example.com  Nyabihu  \n",
      "4  user_227@example.com  Gakenke  \n"
     ]
    }
   ],
   "execution_count": 24
  },
  {
   "metadata": {
    "ExecuteTime": {
     "end_time": "2024-12-07T16:23:27.961356Z",
     "start_time": "2024-12-07T16:23:27.958940Z"
    }
   },
   "cell_type": "code",
   "source": [
    "# QUIZ QUESTION 1\n",
    "# Return 500000 rows from your dataset\n",
    "\n",
    "print(merged_df.shape)"
   ],
   "id": "9a1f59137042ab4e",
   "outputs": [
    {
     "name": "stdout",
     "output_type": "stream",
     "text": [
      "(500000, 10)\n"
     ]
    }
   ],
   "execution_count": 25
  },
  {
   "metadata": {
    "ExecuteTime": {
     "end_time": "2024-12-07T16:23:30.747086Z",
     "start_time": "2024-12-07T16:23:30.685744Z"
    }
   },
   "cell_type": "code",
   "source": [
    "# QUIZ QUESTION 2\n",
    "# Describe your dataset\n",
    "\n",
    "print(\"Shape of the merged DataFrame:\", merged_df.shape)\n",
    "\n",
    "print(\"\\nDescription of the merged DataFrame:\\n\")\n",
    "print(merged_df.describe())"
   ],
   "id": "7bdf0c80501537d3",
   "outputs": [
    {
     "name": "stdout",
     "output_type": "stream",
     "text": [
      "Shape of the merged DataFrame: (500000, 10)\n",
      "\n",
      "Description of the merged DataFrame:\n",
      "\n",
      "                id_x       coach_id  cost_per_hour           id_y\n",
      "count  500000.000000  500000.000000  500000.000000  500000.000000\n",
      "mean   250000.500000     250.772938     667.352000     250.772938\n",
      "std    144337.711634     144.399521     943.052006     144.399521\n",
      "min         1.000000       1.000000       0.000000       1.000000\n",
      "25%    125000.750000     126.000000       0.000000     126.000000\n",
      "50%    250000.500000     251.000000       0.000000     251.000000\n",
      "75%    375000.250000     376.000000    2000.000000     376.000000\n",
      "max    500000.000000     500.000000    2000.000000     500.000000\n"
     ]
    }
   ],
   "execution_count": 26
  },
  {
   "metadata": {
    "ExecuteTime": {
     "end_time": "2024-12-07T16:23:33.743723Z",
     "start_time": "2024-12-07T16:23:33.530447Z"
    }
   },
   "cell_type": "code",
   "source": [
    "# QUIZ QUESTION 3\n",
    "# Find and replace null values from your dataset\n",
    "\n",
    "print(\"Null values in each column:\")\n",
    "print(merged_df.isnull().sum())\n",
    "\n",
    "merged_df['exercises'] = merged_df['exercises'].fillna(\"Unknown\")  \n",
    "merged_df['cost_per_hour'] = merged_df['cost_per_hour'].fillna(merged_df['cost_per_hour'].mean())  \n",
    "\n",
    "print(\"\\nNull values after replacement:\")\n",
    "print(merged_df.isnull().sum())\n",
    "\n",
    "print(\"\\nDataset after replacing null values:\")\n",
    "print(merged_df.head())\n"
   ],
   "id": "2b692a85f4f4d7f2",
   "outputs": [
    {
     "name": "stdout",
     "output_type": "stream",
     "text": [
      "Null values in each column:\n",
      "id_x             0\n",
      "coach_id         0\n",
      "exercises        0\n",
      "cost_per_hour    0\n",
      "username         0\n",
      "id_y             0\n",
      "role             0\n",
      "type             0\n",
      "email            0\n",
      "location         0\n",
      "dtype: int64\n",
      "\n",
      "Null values after replacement:\n",
      "id_x             0\n",
      "coach_id         0\n",
      "exercises        0\n",
      "cost_per_hour    0\n",
      "username         0\n",
      "id_y             0\n",
      "role             0\n",
      "type             0\n",
      "email            0\n",
      "location         0\n",
      "dtype: int64\n",
      "\n",
      "Dataset after replacing null values:\n",
      "   id_x  coach_id exercises  cost_per_hour  username  id_y   role   type  \\\n",
      "0     1       378      Yoga         2000.0  user_378   378  admin  coach   \n",
      "1     2       386  Push-Ups            0.0  user_386   386  admin  coach   \n",
      "2     3        30    Squats            0.0   user_30    30  admin  coach   \n",
      "3     4       129    Squats            0.0  user_129   129  admin  coach   \n",
      "4     5       227  Push-Ups            0.0  user_227   227  admin  coach   \n",
      "\n",
      "                  email location  \n",
      "0  user_378@example.com   Nyanza  \n",
      "1  user_386@example.com  Rulindo  \n",
      "2   user_30@example.com  Kamonyi  \n",
      "3  user_129@example.com  Nyabihu  \n",
      "4  user_227@example.com  Gakenke  \n"
     ]
    }
   ],
   "execution_count": 27
  },
  {
   "metadata": {
    "ExecuteTime": {
     "end_time": "2024-12-07T16:23:39.476008Z",
     "start_time": "2024-12-07T16:23:39.285481Z"
    }
   },
   "cell_type": "code",
   "source": [
    "# QUIZ QUESTION 4\n",
    "# Perform basic data processing\n",
    "\n",
    "\n",
    "print(\"Data before One-Hot Encoding:\\n\")\n",
    "print(merged_df.head())\n",
    "\n",
    "merged_df = pd.get_dummies(merged_df, columns=['location'], prefix='location')\n",
    "\n",
    "print(\"Data after One-Hot Encoding:\\n\")\n",
    "merged_df.head()\n"
   ],
   "id": "d6b8b85887dc4184",
   "outputs": [
    {
     "name": "stdout",
     "output_type": "stream",
     "text": [
      "Data before One-Hot Encoding:\n",
      "\n",
      "   id_x  coach_id exercises  cost_per_hour  username  id_y   role   type  \\\n",
      "0     1       378      Yoga         2000.0  user_378   378  admin  coach   \n",
      "1     2       386  Push-Ups            0.0  user_386   386  admin  coach   \n",
      "2     3        30    Squats            0.0   user_30    30  admin  coach   \n",
      "3     4       129    Squats            0.0  user_129   129  admin  coach   \n",
      "4     5       227  Push-Ups            0.0  user_227   227  admin  coach   \n",
      "\n",
      "                  email location  \n",
      "0  user_378@example.com   Nyanza  \n",
      "1  user_386@example.com  Rulindo  \n",
      "2   user_30@example.com  Kamonyi  \n",
      "3  user_129@example.com  Nyabihu  \n",
      "4  user_227@example.com  Gakenke  \n",
      "Data after One-Hot Encoding:\n",
      "\n"
     ]
    },
    {
     "data": {
      "text/plain": [
       "   id_x  coach_id exercises  cost_per_hour  username  id_y   role   type  \\\n",
       "0     1       378      Yoga         2000.0  user_378   378  admin  coach   \n",
       "1     2       386  Push-Ups            0.0  user_386   386  admin  coach   \n",
       "2     3        30    Squats            0.0   user_30    30  admin  coach   \n",
       "3     4       129    Squats            0.0  user_129   129  admin  coach   \n",
       "4     5       227  Push-Ups            0.0  user_227   227  admin  coach   \n",
       "\n",
       "                  email  location_Bugesera  ...  location_Nyamasheke  \\\n",
       "0  user_378@example.com              False  ...                False   \n",
       "1  user_386@example.com              False  ...                False   \n",
       "2   user_30@example.com              False  ...                False   \n",
       "3  user_129@example.com              False  ...                False   \n",
       "4  user_227@example.com              False  ...                False   \n",
       "\n",
       "   location_Nyanza  location_Nyarugenge  location_Nyaruguru  location_Rubavu  \\\n",
       "0             True                False               False            False   \n",
       "1            False                False               False            False   \n",
       "2            False                False               False            False   \n",
       "3            False                False               False            False   \n",
       "4            False                False               False            False   \n",
       "\n",
       "   location_Ruhango  location_Rulindo  location_Rusizi  location_Rutsiro  \\\n",
       "0             False             False            False             False   \n",
       "1             False              True            False             False   \n",
       "2             False             False            False             False   \n",
       "3             False             False            False             False   \n",
       "4             False             False            False             False   \n",
       "\n",
       "   location_Rwamagana  \n",
       "0               False  \n",
       "1               False  \n",
       "2               False  \n",
       "3               False  \n",
       "4               False  \n",
       "\n",
       "[5 rows x 39 columns]"
      ],
      "text/html": [
       "<div>\n",
       "<style scoped>\n",
       "    .dataframe tbody tr th:only-of-type {\n",
       "        vertical-align: middle;\n",
       "    }\n",
       "\n",
       "    .dataframe tbody tr th {\n",
       "        vertical-align: top;\n",
       "    }\n",
       "\n",
       "    .dataframe thead th {\n",
       "        text-align: right;\n",
       "    }\n",
       "</style>\n",
       "<table border=\"1\" class=\"dataframe\">\n",
       "  <thead>\n",
       "    <tr style=\"text-align: right;\">\n",
       "      <th></th>\n",
       "      <th>id_x</th>\n",
       "      <th>coach_id</th>\n",
       "      <th>exercises</th>\n",
       "      <th>cost_per_hour</th>\n",
       "      <th>username</th>\n",
       "      <th>id_y</th>\n",
       "      <th>role</th>\n",
       "      <th>type</th>\n",
       "      <th>email</th>\n",
       "      <th>location_Bugesera</th>\n",
       "      <th>...</th>\n",
       "      <th>location_Nyamasheke</th>\n",
       "      <th>location_Nyanza</th>\n",
       "      <th>location_Nyarugenge</th>\n",
       "      <th>location_Nyaruguru</th>\n",
       "      <th>location_Rubavu</th>\n",
       "      <th>location_Ruhango</th>\n",
       "      <th>location_Rulindo</th>\n",
       "      <th>location_Rusizi</th>\n",
       "      <th>location_Rutsiro</th>\n",
       "      <th>location_Rwamagana</th>\n",
       "    </tr>\n",
       "  </thead>\n",
       "  <tbody>\n",
       "    <tr>\n",
       "      <th>0</th>\n",
       "      <td>1</td>\n",
       "      <td>378</td>\n",
       "      <td>Yoga</td>\n",
       "      <td>2000.0</td>\n",
       "      <td>user_378</td>\n",
       "      <td>378</td>\n",
       "      <td>admin</td>\n",
       "      <td>coach</td>\n",
       "      <td>user_378@example.com</td>\n",
       "      <td>False</td>\n",
       "      <td>...</td>\n",
       "      <td>False</td>\n",
       "      <td>True</td>\n",
       "      <td>False</td>\n",
       "      <td>False</td>\n",
       "      <td>False</td>\n",
       "      <td>False</td>\n",
       "      <td>False</td>\n",
       "      <td>False</td>\n",
       "      <td>False</td>\n",
       "      <td>False</td>\n",
       "    </tr>\n",
       "    <tr>\n",
       "      <th>1</th>\n",
       "      <td>2</td>\n",
       "      <td>386</td>\n",
       "      <td>Push-Ups</td>\n",
       "      <td>0.0</td>\n",
       "      <td>user_386</td>\n",
       "      <td>386</td>\n",
       "      <td>admin</td>\n",
       "      <td>coach</td>\n",
       "      <td>user_386@example.com</td>\n",
       "      <td>False</td>\n",
       "      <td>...</td>\n",
       "      <td>False</td>\n",
       "      <td>False</td>\n",
       "      <td>False</td>\n",
       "      <td>False</td>\n",
       "      <td>False</td>\n",
       "      <td>False</td>\n",
       "      <td>True</td>\n",
       "      <td>False</td>\n",
       "      <td>False</td>\n",
       "      <td>False</td>\n",
       "    </tr>\n",
       "    <tr>\n",
       "      <th>2</th>\n",
       "      <td>3</td>\n",
       "      <td>30</td>\n",
       "      <td>Squats</td>\n",
       "      <td>0.0</td>\n",
       "      <td>user_30</td>\n",
       "      <td>30</td>\n",
       "      <td>admin</td>\n",
       "      <td>coach</td>\n",
       "      <td>user_30@example.com</td>\n",
       "      <td>False</td>\n",
       "      <td>...</td>\n",
       "      <td>False</td>\n",
       "      <td>False</td>\n",
       "      <td>False</td>\n",
       "      <td>False</td>\n",
       "      <td>False</td>\n",
       "      <td>False</td>\n",
       "      <td>False</td>\n",
       "      <td>False</td>\n",
       "      <td>False</td>\n",
       "      <td>False</td>\n",
       "    </tr>\n",
       "    <tr>\n",
       "      <th>3</th>\n",
       "      <td>4</td>\n",
       "      <td>129</td>\n",
       "      <td>Squats</td>\n",
       "      <td>0.0</td>\n",
       "      <td>user_129</td>\n",
       "      <td>129</td>\n",
       "      <td>admin</td>\n",
       "      <td>coach</td>\n",
       "      <td>user_129@example.com</td>\n",
       "      <td>False</td>\n",
       "      <td>...</td>\n",
       "      <td>False</td>\n",
       "      <td>False</td>\n",
       "      <td>False</td>\n",
       "      <td>False</td>\n",
       "      <td>False</td>\n",
       "      <td>False</td>\n",
       "      <td>False</td>\n",
       "      <td>False</td>\n",
       "      <td>False</td>\n",
       "      <td>False</td>\n",
       "    </tr>\n",
       "    <tr>\n",
       "      <th>4</th>\n",
       "      <td>5</td>\n",
       "      <td>227</td>\n",
       "      <td>Push-Ups</td>\n",
       "      <td>0.0</td>\n",
       "      <td>user_227</td>\n",
       "      <td>227</td>\n",
       "      <td>admin</td>\n",
       "      <td>coach</td>\n",
       "      <td>user_227@example.com</td>\n",
       "      <td>False</td>\n",
       "      <td>...</td>\n",
       "      <td>False</td>\n",
       "      <td>False</td>\n",
       "      <td>False</td>\n",
       "      <td>False</td>\n",
       "      <td>False</td>\n",
       "      <td>False</td>\n",
       "      <td>False</td>\n",
       "      <td>False</td>\n",
       "      <td>False</td>\n",
       "      <td>False</td>\n",
       "    </tr>\n",
       "  </tbody>\n",
       "</table>\n",
       "<p>5 rows × 39 columns</p>\n",
       "</div>"
      ]
     },
     "execution_count": 28,
     "metadata": {},
     "output_type": "execute_result"
    }
   ],
   "execution_count": 28
  },
  {
   "metadata": {
    "ExecuteTime": {
     "end_time": "2024-12-07T16:23:43.354819Z",
     "start_time": "2024-12-07T16:23:43.283431Z"
    }
   },
   "cell_type": "code",
   "source": [
    "# QUIZ QUESTION 5\n",
    "# Create some features in your dataset\n",
    "\n",
    "\n",
    "def price_category(price):\n",
    "    if price < 3000:\n",
    "        return 'Low'\n",
    "    elif 3000 <= price < 6000:\n",
    "        return 'Medium'\n",
    "    else:\n",
    "        return 'High'\n",
    "\n",
    "merged_df['price_category'] = merged_df['cost_per_hour'].apply(price_category)\n",
    "\n",
    "print(\"Processed Data with New Feature:\")\n",
    "print(merged_df[['cost_per_hour', 'price_category']].tail())\n"
   ],
   "id": "e875fad4d49614d",
   "outputs": [
    {
     "name": "stdout",
     "output_type": "stream",
     "text": [
      "Processed Data with New Feature:\n",
      "        cost_per_hour price_category\n",
      "499995            0.0            Low\n",
      "499996            0.0            Low\n",
      "499997            0.0            Low\n",
      "499998         2000.0            Low\n",
      "499999            0.0            Low\n"
     ]
    }
   ],
   "execution_count": 29
  },
  {
   "metadata": {
    "ExecuteTime": {
     "end_time": "2024-12-07T16:25:22.061238Z",
     "start_time": "2024-12-07T16:25:22.006938Z"
    }
   },
   "cell_type": "code",
   "source": [
    "# QUIZ QUESTION 4\n",
    "old_df = pd.read_csv(\"merged_data.csv\")\n",
    "# shape before concatenation\n",
    "print(merged_df.shape)\n",
    "\n",
    "combined_df = pd.concat([old_df, merged_df], axis=0, ignore_index=True)\n",
    "# Showing the combined data\n",
    "print(combined_df.shape)"
   ],
   "id": "efa395c735ceead1",
   "outputs": [
    {
     "name": "stdout",
     "output_type": "stream",
     "text": [
      "(500000, 40)\n",
      "(500100, 40)\n"
     ]
    }
   ],
   "execution_count": 33
  }
 ],
 "metadata": {
  "kernelspec": {
   "display_name": "Python 3",
   "language": "python",
   "name": "python3"
  },
  "language_info": {
   "codemirror_mode": {
    "name": "ipython",
    "version": 2
   },
   "file_extension": ".py",
   "mimetype": "text/x-python",
   "name": "python",
   "nbconvert_exporter": "python",
   "pygments_lexer": "ipython2",
   "version": "2.7.6"
  }
 },
 "nbformat": 4,
 "nbformat_minor": 5
}
